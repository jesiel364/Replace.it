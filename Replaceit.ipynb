{
  "nbformat": 4,
  "nbformat_minor": 0,
  "metadata": {
    "colab": {
      "name": "Replaceit.ipynb",
      "provenance": [],
      "collapsed_sections": [],
      "authorship_tag": "ABX9TyNqFO2IMRFPZ9DVMdXWsDXc",
      "include_colab_link": true
    },
    "kernelspec": {
      "name": "python3",
      "display_name": "Python 3"
    },
    "language_info": {
      "name": "python"
    }
  },
  "cells": [
    {
      "cell_type": "markdown",
      "metadata": {
        "id": "view-in-github",
        "colab_type": "text"
      },
      "source": [
        "<a href=\"https://colab.research.google.com/github/jesiel364/Replace.it/blob/main/Replaceit.ipynb\" target=\"_parent\"><img src=\"https://colab.research.google.com/assets/colab-badge.svg\" alt=\"Open In Colab\"/></a>"
      ]
    },
    {
      "cell_type": "code",
      "metadata": {
        "colab": {
          "base_uri": "https://localhost:8080/"
        },
        "id": "0JrMS2whDLN9",
        "outputId": "509fce15-8326-4346-b561-e183b2a5e0b6"
      },
      "source": [
        "txt = input('Texto: ')\n",
        "char = input('Caractere(s) a ser substituido: ')\n",
        "new_char = input('Novo caractere: ')\n",
        "\n",
        "def replace(txt, char, new_char):\n",
        "  if char == '' or new_char == '':\n",
        "    res = txt.replace(char, new_char)\n",
        "    return f'Texto: \"{res}\"'\n",
        "  \n",
        "  res = txt.replace(char, new_char)\n",
        "  return f'Texto: \"{res}\"'\n",
        "\n",
        "print(replace(txt, char, new_char))"
      ],
      "execution_count": 34,
      "outputs": [
        {
          "output_type": "stream",
          "name": "stdout",
          "text": [
            "Texto: Javascript PhP Ruby\n",
            "Caractere(s) a ser substituido: Javascript\n",
            "Novo caractere: JS\n",
            "Texto: \"JS PhP Ruby\"\n"
          ]
        }
      ]
    }
  ]
}