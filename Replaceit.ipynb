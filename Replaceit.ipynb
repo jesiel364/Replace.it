{
  "nbformat": 4,
  "nbformat_minor": 0,
  "metadata": {
    "colab": {
      "name": "Replaceit.ipynb",
      "provenance": [],
      "collapsed_sections": [],
      "authorship_tag": "ABX9TyMybgt1l2yZCQmV3E2mR8+6",
      "include_colab_link": true
    },
    "kernelspec": {
      "name": "python3",
      "display_name": "Python 3"
    },
    "language_info": {
      "name": "python"
    }
  },
  "cells": [
    {
      "cell_type": "markdown",
      "metadata": {
        "id": "view-in-github",
        "colab_type": "text"
      },
      "source": [
        "<a href=\"https://colab.research.google.com/github/jesiel364/Replace.it/blob/main/Replaceit.ipynb\" target=\"_parent\"><img src=\"https://colab.research.google.com/assets/colab-badge.svg\" alt=\"Open In Colab\"/></a>"
      ]
    },
    {
      "cell_type": "code",
      "metadata": {
        "colab": {
          "base_uri": "https://localhost:8080/"
        },
        "id": "0JrMS2whDLN9",
        "outputId": "f87ca74c-eb53-4882-96d5-8836e442f0e3"
      },
      "source": [
        "txt = input('Texto: ')\n",
        "a = input('Caractere(s) a ser substituido: ')\n",
        "b = input('Novo Caractere: ')\n",
        "\n",
        "def replace(txt, a, b):\n",
        "  if a == '':\n",
        "    a = ''\n",
        "    res = txt.replace(a, b)\n",
        "    return f'Texto: \"{res}\"'\n",
        "  \n",
        "  elif b == '':\n",
        "    b = ''\n",
        "    res = txt.replace(a, b)\n",
        "    return f'Texto: \"{res}\"'\n",
        "\n",
        "print(replace(txt, a, b))"
      ],
      "execution_count": 12,
      "outputs": [
        {
          "output_type": "stream",
          "name": "stdout",
          "text": [
            "Texto: 0019000009 03211719004 00819103177 3 91340000012990\n",
            "Caractere(s) a ser substituido:  \n",
            "Novo Caractere: \n",
            "Texto: \"00190000090321171900400819103177391340000012990\"\n"
          ]
        }
      ]
    }
  ]
}