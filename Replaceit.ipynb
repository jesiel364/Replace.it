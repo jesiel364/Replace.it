{
  "nbformat": 4,
  "nbformat_minor": 0,
  "metadata": {
    "colab": {
      "name": "Replaceit.ipynb",
      "provenance": [],
      "collapsed_sections": [],
      "authorship_tag": "ABX9TyNn/IZVqGWSYZ60EKDuUcD9",
      "include_colab_link": true
    },
    "kernelspec": {
      "name": "python3",
      "display_name": "Python 3"
    },
    "language_info": {
      "name": "python"
    }
  },
  "cells": [
    {
      "cell_type": "markdown",
      "metadata": {
        "id": "view-in-github",
        "colab_type": "text"
      },
      "source": [
        "<a href=\"https://colab.research.google.com/github/jesiel364/Replace.it/blob/main/Replaceit.ipynb\" target=\"_parent\"><img src=\"https://colab.research.google.com/assets/colab-badge.svg\" alt=\"Open In Colab\"/></a>"
      ]
    },
    {
      "cell_type": "code",
      "metadata": {
        "colab": {
          "base_uri": "https://localhost:8080/"
        },
        "id": "0JrMS2whDLN9",
        "outputId": "2f930671-58ec-4f85-fcd6-955a51cd87d4"
      },
      "source": [
        "txt = input('Texto: ')\n",
        "a = input('Caractere(s) a ser substituido: ')\n",
        "b = input('Novo Caractere: ')\n",
        "now = text.replace(a, b)\n",
        "print(now)"
      ],
      "execution_count": null,
      "outputs": [
        {
          "output_type": "stream",
          "name": "stdout",
          "text": [
            "Texto: 00190.00009 03211.719004 00819.103177 3 91340000012990\n",
            "Caractere(s) a ser substituido: .\n",
            "Novo Caractere: \n",
            "0019000009 03211719004 00819103177 3 91340000012990\n"
          ]
        }
      ]
    }
  ]
}